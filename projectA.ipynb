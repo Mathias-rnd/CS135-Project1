{
 "cells": [
  {
   "cell_type": "code",
   "execution_count": 1,
   "id": "b6b038fb",
   "metadata": {},
   "outputs": [],
   "source": [
    "import os\n",
    "import numpy as np\n",
    "import pandas as pd\n",
    "from sklearn.feature_extraction.text import CountVectorizer\n",
    "from sklearn.linear_model import LogisticRegression\n",
    "from sklearn.model_selection import StratifiedKFold, cross_val_score\n",
    "from sklearn.pipeline import make_pipeline\n",
    "from sklearn.metrics import roc_auc_score"
   ]
  },
  {
   "cell_type": "code",
   "execution_count": 24,
   "id": "43fde550",
   "metadata": {},
   "outputs": [
    {
     "data": {
      "text/plain": [
       "['text', 'document', 'analyze']"
      ]
     },
     "execution_count": 24,
     "metadata": {},
     "output_type": "execute_result"
    }
   ],
   "source": [
    "# Load dataset\n",
    "data_dir = 'data_readinglevel'\n",
    "x_train = pd.read_csv(os.path.join(data_dir, 'x_train.csv'))\n",
    "y_train = pd.read_csv(os.path.join(data_dir, 'y_train.csv'))\n",
    "\n",
    "texts = x_train['text'].tolist()\n",
    "labels = (y_train['Coarse Label'] == 'Key Stage 4-5').astype(int)\n",
    "\n",
    "vectorizer = CountVectorizer(\n",
    "    lowercase=True,\n",
    "    stop_words='english',\n",
    "    token_pattern=r'(?u)\\b\\w*[^\\d\\W]\\w*\\b',\n",
    ")\n",
    "\n",
    "X = vectorizer.fit_transform(texts)\n",
    "vectorizer.get_feature_names_out()\n",
    "\n",
    "analyze = vectorizer.build_analyzer()\n",
    "analyze(\"This is a text document to analyze 102.\")\n",
    "\n",
    "\n",
    "\n"
   ]
  }
 ],
 "metadata": {
  "kernelspec": {
   "display_name": "cs135_25s_env",
   "language": "python",
   "name": "python3"
  },
  "language_info": {
   "codemirror_mode": {
    "name": "ipython",
    "version": 3
   },
   "file_extension": ".py",
   "mimetype": "text/x-python",
   "name": "python",
   "nbconvert_exporter": "python",
   "pygments_lexer": "ipython3",
   "version": "3.11.13"
  }
 },
 "nbformat": 4,
 "nbformat_minor": 5
}
